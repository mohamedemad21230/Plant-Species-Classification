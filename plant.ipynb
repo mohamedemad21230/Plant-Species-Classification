{
  "cells": [
    {
      "cell_type": "code",
      "execution_count": 30,
      "metadata": {
        "colab": {
          "base_uri": "https://localhost:8080/"
        },
        "id": "4glxz2tGZ6GV",
        "outputId": "deaf80eb-4448-4d7f-f290-b9db64eda270"
      },
      "outputs": [
        {
          "name": "stdout",
          "output_type": "stream",
          "text": [
            "Found 104 images belonging to 2 classes.\n",
            "Found 76 images belonging to 2 classes.\n",
            "Epoch 1/15\n",
            "7/7 [==============================] - 88s 10s/step - loss: 1.9398 - accuracy: 0.5577\n",
            "Epoch 2/15\n",
            "7/7 [==============================] - 71s 10s/step - loss: 0.3786 - accuracy: 0.8077\n",
            "Epoch 3/15\n",
            "7/7 [==============================] - 69s 10s/step - loss: 0.3558 - accuracy: 0.8750\n",
            "Epoch 4/15\n",
            "7/7 [==============================] - 69s 10s/step - loss: 0.2265 - accuracy: 0.9135\n",
            "Epoch 5/15\n",
            "7/7 [==============================] - 69s 11s/step - loss: 0.3778 - accuracy: 0.8654\n",
            "Epoch 6/15\n",
            "7/7 [==============================] - 69s 9s/step - loss: 0.2054 - accuracy: 0.9135\n",
            "Epoch 7/15\n",
            "7/7 [==============================] - 71s 10s/step - loss: 0.0907 - accuracy: 0.9615\n",
            "Epoch 8/15\n",
            "7/7 [==============================] - 71s 10s/step - loss: 0.3535 - accuracy: 0.9038\n",
            "Epoch 9/15\n",
            "7/7 [==============================] - 71s 10s/step - loss: 0.1079 - accuracy: 0.9615\n",
            "Epoch 10/15\n",
            "7/7 [==============================] - 73s 10s/step - loss: 0.0603 - accuracy: 0.9712\n",
            "Epoch 11/15\n",
            "7/7 [==============================] - 71s 10s/step - loss: 0.0691 - accuracy: 0.9808\n",
            "Epoch 12/15\n",
            "7/7 [==============================] - 69s 10s/step - loss: 0.2658 - accuracy: 0.9615\n",
            "Epoch 13/15\n",
            "7/7 [==============================] - 69s 10s/step - loss: 0.2671 - accuracy: 0.9327\n",
            "Epoch 14/15\n",
            "7/7 [==============================] - 69s 10s/step - loss: 0.0537 - accuracy: 0.9808\n",
            "Epoch 15/15\n",
            "7/7 [==============================] - 69s 9s/step - loss: 0.4041 - accuracy: 0.8750\n"
          ]
        }
      ],
      "source": [
        "from keras.preprocessing.image import ImageDataGenerator\n",
        "from keras.models import Sequential, Model\n",
        "from keras.layers import Conv2D, MaxPooling2D, GlobalAveragePooling2D\n",
        "from keras.layers import Activation, Dropout, Flatten, Dense\n",
        "from keras.optimizers import Adam\n",
        "from keras import backend as K\n",
        "from tensorflow.keras.applications import InceptionV3\n",
        "\n",
        "# dimensions of our images.\n",
        "img_width, img_height = 256, 256\n",
        "\n",
        "train_data_dir = 'Dataset Planet/Train'\n",
        "test_data_dir = 'Dataset Planet/Test'\n",
        "epochs = 15\n",
        "batch_size = 16\n",
        "\n",
        "base_model = InceptionV3(include_top=False, input_shape=(256, 256, 3))\n",
        "\n",
        "# Add some layers on top of the base model for classification\n",
        "x = base_model.output\n",
        "x = GlobalAveragePooling2D()(x)\n",
        "x = Dense(1024, activation='relu')(x)\n",
        "x = Dropout(0.5)(x)\n",
        "x = Dense(256, activation='relu')(x)\n",
        "x = Dropout(0.5)(x)\n",
        "predictions = Dense(1, activation='sigmoid')(x)\n",
        "\n",
        "model = Model(inputs=base_model.input, outputs=predictions)\n",
        "\n",
        "# for layer in base_model.layers:\n",
        "#     layer.trainable = False\n",
        "\n",
        "model.compile(loss='binary_crossentropy',\n",
        "              optimizer='rmsprop',\n",
        "              metrics=['accuracy'])\n",
        "\n",
        "# this is the augmentation configuration we will use for training\n",
        "train_datagen = ImageDataGenerator(\n",
        "    rescale=1. / 255,\n",
        "    shear_range=0.2,\n",
        "    zoom_range=0.2,\n",
        "    horizontal_flip=True)\n",
        "\n",
        "# this is the augmentation configuration we will use for testing:\n",
        "# only rescaling\n",
        "test_datagen = ImageDataGenerator(rescale=1. / 255)\n",
        "\n",
        "train_generator = train_datagen.flow_from_directory(\n",
        "    train_data_dir,\n",
        "    target_size=(img_width, img_height),\n",
        "    batch_size=batch_size,\n",
        "    class_mode='binary')\n",
        "\n",
        "test_generator = test_datagen.flow_from_directory(\n",
        "    test_data_dir,\n",
        "    target_size=(img_width, img_height),\n",
        "    batch_size=batch_size,\n",
        "    class_mode='binary')\n",
        "\n",
        "model.fit(train_generator, epochs=epochs, batch_size=batch_size)\n",
        "\n",
        "model.save_weights('planet.h5')"
      ]
    },
    {
      "cell_type": "code",
      "execution_count": 31,
      "metadata": {
        "colab": {
          "base_uri": "https://localhost:8080/"
        },
        "id": "lHBXDvzejbZC",
        "outputId": "348e60dd-d0ff-4543-f3b3-23514db2d98f"
      },
      "outputs": [
        {
          "name": "stdout",
          "output_type": "stream",
          "text": [
            "5/5 [==============================] - 38s 6s/step\n"
          ]
        }
      ],
      "source": [
        "result = model.predict(test_generator)"
      ]
    },
    {
      "cell_type": "code",
      "execution_count": 32,
      "metadata": {
        "id": "yXSSyvihni_C"
      },
      "outputs": [],
      "source": [
        "y_test = test_generator.classes"
      ]
    },
    {
      "cell_type": "code",
      "execution_count": 33,
      "metadata": {
        "id": "zxWIcvoKnovj"
      },
      "outputs": [],
      "source": [
        "import numpy as np\n",
        "y_pred = np.argmax(result, axis=-1)"
      ]
    },
    {
      "cell_type": "code",
      "execution_count": 38,
      "metadata": {
        "colab": {
          "base_uri": "https://localhost:8080/"
        },
        "id": "ZmPfnYownv_7",
        "outputId": "56bd1a37-29c9-4a2f-c63d-59755a326eb3"
      },
      "outputs": [
        {
          "name": "stdout",
          "output_type": "stream",
          "text": [
            "              precision    recall  f1-score   support\n",
            "\n",
            "           0       0.16      1.00      0.27        12\n",
            "           1       0.00      0.00      0.00        64\n",
            "\n",
            "    accuracy                           0.16        76\n",
            "   macro avg       0.08      0.50      0.14        76\n",
            "weighted avg       0.02      0.16      0.04        76\n",
            "\n",
            "0.15789473684210525\n"
          ]
        },
        {
          "name": "stderr",
          "output_type": "stream",
          "text": [
            "/usr/local/lib/python3.10/dist-packages/sklearn/metrics/_classification.py:1344: UndefinedMetricWarning: Precision and F-score are ill-defined and being set to 0.0 in labels with no predicted samples. Use `zero_division` parameter to control this behavior.\n",
            "  _warn_prf(average, modifier, msg_start, len(result))\n",
            "/usr/local/lib/python3.10/dist-packages/sklearn/metrics/_classification.py:1344: UndefinedMetricWarning: Precision and F-score are ill-defined and being set to 0.0 in labels with no predicted samples. Use `zero_division` parameter to control this behavior.\n",
            "  _warn_prf(average, modifier, msg_start, len(result))\n",
            "/usr/local/lib/python3.10/dist-packages/sklearn/metrics/_classification.py:1344: UndefinedMetricWarning: Precision and F-score are ill-defined and being set to 0.0 in labels with no predicted samples. Use `zero_division` parameter to control this behavior.\n",
            "  _warn_prf(average, modifier, msg_start, len(result))\n"
          ]
        }
      ],
      "source": [
        "from sklearn.metrics import classification_report, confusion_matrix, accuracy_score\n",
        "\n",
        "print(classification_report(y_test, y_pred))\n",
        "print(accuracy_score(y_test, y_pred))"
      ]
    },
    {
      "cell_type": "code",
      "execution_count": 35,
      "metadata": {
        "colab": {
          "base_uri": "https://localhost:8080/",
          "height": 830
        },
        "id": "ZDycVQq1oR_s",
        "outputId": "9e6652a8-8969-4cd9-93fd-bcabaf02a6b8"
      },
      "outputs": [
        {
          "data": {
            "image/png": "[encoded data removed]",
            "text/plain": [
              "<Figure size 1000x1000 with 2 Axes>"
            ]
          },
          "metadata": {},
          "output_type": "display_data"
        }
      ],
      "source": [
        "import matplotlib.pyplot as plt\n",
        "import seaborn as sns\n",
        "import pandas as pd\n",
        "\n",
        "cm = confusion_matrix(y_test, y_pred)\n",
        "cm = pd.DataFrame(cm, range(2),range(2))\n",
        "plt.figure(figsize = (10,10))\n",
        "sns.heatmap(cm, annot=True, annot_kws={\"size\": 12}) # font size\n",
        "plt.show()"
      ]
    }
  ],
  "metadata": {
    "colab": {
      "provenance": []
    },
    "kernelspec": {
      "display_name": "Python 3",
      "name": "python3"
    },
    "language_info": {
      "name": "python"
    }
  },
  "nbformat": 4,
  "nbformat_minor": 0
}
